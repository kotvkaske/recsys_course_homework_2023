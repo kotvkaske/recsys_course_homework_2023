{
 "cells": [
  {
   "cell_type": "markdown",
   "id": "aeba13c8-6651-400c-884b-a8dd86ec5e67",
   "metadata": {},
   "source": [
    "# HW4 KAMENEV VLADIMIR"
   ]
  },
  {
   "cell_type": "code",
   "execution_count": null,
   "id": "1bf6fe9b-a0ed-4a95-bd5d-1757434e8363",
   "metadata": {},
   "outputs": [],
   "source": []
  }
 ],
 "metadata": {
  "kernelspec": {
   "display_name": "Python 3 (ipykernel)",
   "language": "python",
   "name": "python3"
  },
  "language_info": {
   "codemirror_mode": {
    "name": "ipython",
    "version": 3
   },
   "file_extension": ".py",
   "mimetype": "text/x-python",
   "name": "python",
   "nbconvert_exporter": "python",
   "pygments_lexer": "ipython3",
   "version": "3.9.10"
  }
 },
 "nbformat": 4,
 "nbformat_minor": 5
}
